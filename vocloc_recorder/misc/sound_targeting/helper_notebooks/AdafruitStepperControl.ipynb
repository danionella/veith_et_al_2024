{
 "cells": [
  {
   "cell_type": "code",
   "execution_count": null,
   "id": "c561798e-5edb-43b6-84da-25f563f99598",
   "metadata": {},
   "outputs": [],
   "source": [
    "import serial\n",
    "import time\n",
    "class AdafruitStepper:\n",
    "    \"\"\"\n",
    "    Class to control two stepper motors.\n",
    "    When the Arduino is switched on, the current motor position is defined as origin (0,0).\n",
    "    All x,y target values are absolute values w.r.t. this origin.\n",
    "    The class is tied to serial commands defined in Accel_MultiStepper_Serial.ino\n",
    "\n",
    "    Example:\n",
    "        To move to absolute step position (x,y) = (3445,56), the following serial command is sent:\n",
    "        Serial Out: 0000344500000056\n",
    "\n",
    "        The Arduino is expected to only send bytes whenever all motors have moved to the target position.\n",
    "    \"\"\"\n",
    "\n",
    "    def __init__(self):\n",
    "        #self.ser = serial.Serial('COM3', 9600, timeout=1) # Windows, check for port\n",
    "        self.ser = serial.Serial('/dev/ttyACM0', 9600, timeout=1) # Linux, check for port\n",
    "        # under Linux:\n",
    "        # 1. find PORTNAME: dmesg | grep tty\n",
    "        # 2. give permission: sudo chmod 666 /dev/PORTNAME\n",
    "        time.sleep(4)\n",
    "        #self.goto(0, 0)\n",
    "\n",
    "    def goto(self, x, y):\n",
    "        self.ser.reset_input_buffer()\n",
    "        self.ser.reset_output_buffer()\n",
    "        # turn into serial command\n",
    "        x = int(x)\n",
    "        y = int(y)\n",
    "        cmd = str(x)[-8:].zfill(8) + str(y)[-8:].zfill(8)\n",
    "        # send\n",
    "        print(cmd)\n",
    "        self.ser.write(cmd.encode())\n",
    "        # wait for any feedback signal\n",
    "        while not self.ser.in_waiting:  # stops upon feedback\n",
    "            time.sleep(.1)\n",
    "        self.ser.reset_input_buffer()\n",
    "\n",
    "    def goto_cm(self, xcm, ycm):\n",
    "        x, y = self.cm2step(xcm, ycm)\n",
    "        self.goto(x, y)\n",
    "\n",
    "    def cm2step(self, xcm, ycm):\n",
    "        f = 1596.01\n",
    "        xsteps = int(f * xcm)\n",
    "        ysteps = int(f * ycm)\n",
    "        return xsteps, ysteps\n",
    "\n",
    "    def __del__(self):\n",
    "        # Return back to origin upon destruction\n",
    "       # self.goto(0, 0)\n",
    "        self.ser.close()"
   ]
  },
  {
   "cell_type": "code",
   "execution_count": null,
   "id": "e6213311-8452-4af3-94ad-8a5fcd62e3bd",
   "metadata": {},
   "outputs": [],
   "source": []
  },
  {
   "cell_type": "code",
   "execution_count": null,
   "id": "a93c9875-eebe-4555-b833-0e0ef54be7db",
   "metadata": {},
   "outputs": [],
   "source": [
    "# Arduino that controls the steppers sets zero position upon power on"
   ]
  },
  {
   "cell_type": "code",
   "execution_count": null,
   "id": "edefbe67-16f3-4d97-a394-f3818d3ea36a",
   "metadata": {},
   "outputs": [],
   "source": [
    "!dmesg | grep tty"
   ]
  },
  {
   "cell_type": "code",
   "execution_count": null,
   "id": "6e158a55-943c-45d4-9efe-e52987dcd3fb",
   "metadata": {},
   "outputs": [],
   "source": [
    "#sudo chmod 666 /dev/ttyACM1"
   ]
  },
  {
   "cell_type": "code",
   "execution_count": null,
   "id": "7b3e7ce7-883c-4d6a-a129-e42223cb88d9",
   "metadata": {},
   "outputs": [],
   "source": [
    "afs = AdafruitStepper()"
   ]
  },
  {
   "cell_type": "code",
   "execution_count": null,
   "id": "0bd3b404-6fa1-4a48-a860-83b36de3674d",
   "metadata": {},
   "outputs": [],
   "source": [
    "afs.goto_cm(0,0)"
   ]
  },
  {
   "cell_type": "code",
   "execution_count": null,
   "id": "857a7350-2cd7-42bf-9704-6ae6d4ed5a27",
   "metadata": {},
   "outputs": [],
   "source": [
    "afs.goto_cm(15,0)"
   ]
  },
  {
   "cell_type": "code",
   "execution_count": null,
   "id": "657435ce-c53f-4796-ad35-33bdd4107050",
   "metadata": {},
   "outputs": [],
   "source": []
  }
 ],
 "metadata": {
  "kernelspec": {
   "display_name": "Python [conda env:recorder3]",
   "language": "python",
   "name": "conda-env-recorder3-py"
  },
  "language_info": {
   "codemirror_mode": {
    "name": "ipython",
    "version": 3
   },
   "file_extension": ".py",
   "mimetype": "text/x-python",
   "name": "python",
   "nbconvert_exporter": "python",
   "pygments_lexer": "ipython3",
   "version": "3.8.15"
  }
 },
 "nbformat": 4,
 "nbformat_minor": 5
}
