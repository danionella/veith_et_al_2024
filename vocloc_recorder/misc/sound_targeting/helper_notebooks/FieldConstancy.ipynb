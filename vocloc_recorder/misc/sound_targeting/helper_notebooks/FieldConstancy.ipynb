{
 "cells": [
  {
   "cell_type": "code",
   "execution_count": null,
   "metadata": {},
   "outputs": [],
   "source": [
    "# imports\n",
    "import matplotlib.pyplot as plt\n",
    "import numpy as np\n",
    "import pandas as pd\n",
    "import os\n",
    "import glob\n",
    "import matplotlib.gridspec as gridspec\n",
    "\n",
    "%load_ext autoreload\n",
    "%autoreload 1\n",
    "import json\n",
    "\n",
    "import h5py as h5\n",
    "#import seaborn as sns\n",
    "#plt.style.use('https://raw.githubusercontent.com/danionella/plotstyles/main/JJ.mplstyle')\n",
    "#sns.set(font_scale=2)\n",
    "#sns.set_style(\"white\")\n",
    "#sns.set_style(\"ticks\")\n",
    "from scipy.stats import pearsonr\n",
    "from utils import load_from_h5, colorbar\n",
    "%matplotlib widget"
   ]
  },
  {
   "cell_type": "code",
   "execution_count": null,
   "metadata": {},
   "outputs": [],
   "source": [
    "def pfield2obs(pfield, startx, stopx, nx, starty, stopy, ny, rho):\n",
    "    result = {}\n",
    "    # turn into observables\n",
    "    # step sizes\n",
    "    dx = 1e-2 * (stopx - startx) / (nx - 1)  # start/stop in cm\n",
    "    dy = 1e-2 * (stopy - starty) / (ny - 1)\n",
    "    result[\"pressure\"] = pfield  # dim: nsamples, ny, nx, nspeakers\n",
    "    result[\"acceleration_y\"] = - np.gradient(pfield, axis=1) / dy / rho  # Euler Eq.\n",
    "    result[\"acceleration_x\"] = - np.gradient(pfield, axis=2) / dx / rho  # Euler Eq.\n",
    "    return result"
   ]
  },
  {
   "cell_type": "code",
   "execution_count": null,
   "metadata": {},
   "outputs": [],
   "source": [
    "def accelfield2obs(accelfield):\n",
    "    # transform from names on sensor to own name convention for axes\n",
    "    # channel order: X,Y,Z as per label on of PCB acceleration sensor\n",
    "    result = {}\n",
    "    result[\"acceleration_x\"] = -accelfield[:,:,:,2] # Z is L/R sp0/sp1 axis, sign on sensor points left towards sp0 \n",
    "    result[\"acceleration_y\"] = accelfield[:,:,:,1] # Y is along sp2/sp3 axis, sign on sensor points down towards sp3\n",
    "    result[\"acceleration_z\"] = -accelfield[:,:,:,0] # X is top/down axis, sign on sensor points to bottom\n",
    "    return result"
   ]
  },
  {
   "cell_type": "code",
   "execution_count": null,
   "metadata": {},
   "outputs": [],
   "source": [
    "def linebreaks(my_str, group=10, char='\\n'):\n",
    "    return char.join(my_str[i:i+group] for i in range(0, len(my_str), group))"
   ]
  },
  {
   "cell_type": "markdown",
   "metadata": {},
   "source": [
    "# Filenames"
   ]
  },
  {
   "cell_type": "code",
   "execution_count": null,
   "metadata": {},
   "outputs": [],
   "source": [
    "Xserver = r'./'\n",
    "fn_pfields = glob.glob(os.path.join(Xserver,'field_constancy/*pfield*.h5'))\n",
    "fn_accelfields = glob.glob(os.path.join(Xserver,'field_constancy/*accelfield*.h5'))\n",
    "fn_stimset = r'./2023-03-23_18-57-01_field/2023-03-23_18-57-01stimset_field.h5'\n",
    "out = r\"./field_constancy/plots\""
   ]
  },
  {
   "cell_type": "code",
   "execution_count": null,
   "metadata": {},
   "outputs": [],
   "source": [
    "ss = load_from_h5(fn_stimset)"
   ]
  },
  {
   "cell_type": "code",
   "execution_count": null,
   "metadata": {},
   "outputs": [],
   "source": [
    "pfields = {}\n",
    "for fn_pfield in fn_pfields:\n",
    "    tmp = load_from_h5(fn_pfield)\n",
    "    date = list(tmp['constancy'].keys())[0] #single entry\n",
    "    pfields[date] = tmp['constancy'][date]"
   ]
  },
  {
   "cell_type": "code",
   "execution_count": null,
   "metadata": {},
   "outputs": [],
   "source": [
    "accelfields = {}\n",
    "for fn_accelfield in fn_accelfields:\n",
    "    tmp = load_from_h5(fn_accelfield)\n",
    "    date = list(tmp['constancy_accel'].keys())[0] #single entry\n",
    "    accelfields[date] = tmp['constancy_accel'][date]"
   ]
  },
  {
   "cell_type": "code",
   "execution_count": null,
   "metadata": {},
   "outputs": [],
   "source": [
    "ss.keys()"
   ]
  },
  {
   "cell_type": "code",
   "execution_count": null,
   "metadata": {},
   "outputs": [],
   "source": [
    "ss_test0 = ss['test0']\n",
    "pm =  ss['test0_params']\n",
    "config = ss['globalconfig']\n",
    "params = ss['globalparams']\n",
    "sr = config['audio']['rate']\n",
    "print(pm)\n",
    "print(params)\n",
    "print(config)"
   ]
  },
  {
   "cell_type": "code",
   "execution_count": null,
   "metadata": {},
   "outputs": [],
   "source": [
    "p2obs = lambda p: pfield2obs(p, startx=pm['startx'], stopx=pm['stopx'], nx=pm['nx'], starty=pm['starty'], stopy=pm['stopy'], ny=pm['ny'], rho=params['rho'])"
   ]
  },
  {
   "cell_type": "code",
   "execution_count": null,
   "metadata": {},
   "outputs": [],
   "source": [
    "del ss"
   ]
  },
  {
   "cell_type": "code",
   "execution_count": null,
   "metadata": {},
   "outputs": [],
   "source": [
    "keys_raw =  sorted([k for k in ss_test0.keys() if \"Conditioned\" not in k]) # nsamples, ny, nx, repeats\n",
    "keys_with_cond = sorted([k for k in ss_test0.keys() if \"Conditioned\" in k]) # nsamples, ny, nx, repeats, ny(target), nx(target)"
   ]
  },
  {
   "cell_type": "code",
   "execution_count": null,
   "metadata": {},
   "outputs": [],
   "source": [
    "keys_raw"
   ]
  },
  {
   "cell_type": "code",
   "execution_count": null,
   "metadata": {},
   "outputs": [],
   "source": [
    "keys_with_cond"
   ]
  },
  {
   "cell_type": "code",
   "execution_count": null,
   "metadata": {},
   "outputs": [],
   "source": [
    "plim = 60 # pressure limit\n",
    "alim = 1.8"
   ]
  },
  {
   "cell_type": "code",
   "execution_count": null,
   "metadata": {},
   "outputs": [],
   "source": [
    "# Constancy over time\n",
    "for k in keys_with_cond[:1]:\n",
    "    title = k+f\"_CLOSED_LOOP_pressure\"\n",
    "    data = ss_test0[k].mean(3)\n",
    "    print(title)\n",
    "    titlebr = linebreaks(title, group=50)\n",
    "    nsp = data.shape[0]\n",
    "    ny = data.shape[1]\n",
    "    nx = data.shape[2]\n",
    "\n",
    "\n",
    "    ####WAVEFORMS\n",
    "    fig = plt.figure(figsize=(48 / 2.54, 48 * nx / 2.54 / ny))\n",
    "    gs = gridspec.GridSpec(ny, nx)\n",
    "    # plot\n",
    "    for i in range(ny):\n",
    "        for j in range(nx):\n",
    "            ax = fig.add_subplot(gs[i, j])\n",
    "            ax.plot(1000. * np.arange(nsp, dtype=float) / sr, data[:,i,j,i,j], color='k', lw=.5, label=\"Initial\")\n",
    "            ax.spines['right'].set_visible(False)\n",
    "            ax.spines['top'].set_visible(False)\n",
    "            ax.set_xlabel('Time [ms]')\n",
    "            ax.set_ylim([-plim, plim])\n",
    "            ax.set_ylabel(\"[Pa]\")\n",
    "            tmptitle = f\"x={j}, y={i}\"\n",
    "            ax.set_title(tmptitle)\n",
    "            for date in pfields.keys():\n",
    "                ax.plot(1000. * np.arange(nsp, dtype=float) / sr, pfields[date][k].mean(3)[:,i,j], lw=.5, alpha=.5, label=date)\n",
    "            ax.legend(fontsize=8)\n",
    "\n",
    "    #fig.subplots_adjust(top=0.97)\n",
    "    fig.suptitle(titlebr, fontsize=8)\n",
    "    fig.tight_layout(rect=[0, 0, 1, 0.97])\n",
    "    fn = os.path.join(out,title+'.png')\n",
    "    fig.savefig(fn, dpi=300)\n",
    "\n",
    "    ####SCORES\n",
    "    for date in pfields.keys():\n",
    "        corrlim = [.8,1]\n",
    "        nrmselim = [0,10]\n",
    "        title =  k+f\"_CLOSED_LOOP_SCORES_{plot_obs}_{date}\"\n",
    "        titlebr = linebreaks(title, group=50)\n",
    "        correlations = np.zeros(data.shape[1:3])\n",
    "        nrmse = correlations.copy()\n",
    "        for i in range(correlations.shape[0]):\n",
    "            for j in range(correlations.shape[1]):\n",
    "                orig =  data[:,i,j,i,j]\n",
    "                later = pfields[date][k].mean(3)[:,i,j]\n",
    "                correlations[i,j] = pearsonr(later, orig)[0]\n",
    "                nrmse[i,j] = np.sqrt(np.mean((later-orig)**2))/(max(orig)-min(orig))\n",
    "        fig, ax = plt.subplots(1,2)#figsize=(12,8)\n",
    "        tmp = ax[0].imshow(correlations, vmin=corrlim[0], vmax=corrlim[1], cmap= 'gray')\n",
    "        colorbar(tmp, \"Pearson Correlation\")\n",
    "        tmp = ax[1].imshow(100*nrmse, vmin=nrmselim[0], vmax=nrmselim[1], cmap='gray_r')\n",
    "        colorbar(tmp, \"NRMSE (%)\")\n",
    "\n",
    "        # fig.subplots_adjust(top=0.97)\n",
    "        fig.suptitle(titlebr, fontsize=8)\n",
    "        fig.tight_layout(rect=[0, 0, 1, 1.05])\n",
    "        fn = os.path.join(out,title+'.png')\n",
    "        fig.savefig(fn, dpi=300)"
   ]
  },
  {
   "cell_type": "code",
   "execution_count": null,
   "metadata": {},
   "outputs": [],
   "source": []
  },
  {
   "cell_type": "code",
   "execution_count": null,
   "metadata": {},
   "outputs": [],
   "source": [
    "# Compare initial pressure gradient to all later PCB acceleration measurements\n",
    "label = \"PCBvsHydrophone\"\n",
    "plot_obs = \"acceleration_z\"\n",
    "scale_p = 0.4#0.5\n",
    "\n",
    "for k in keys_with_cond[:1]:\n",
    "    title = k+f\"_CLOSED_LOOP_{label}_{plot_obs}\"\n",
    "    print(title)\n",
    "    titlebr = linebreaks(title, group=50)\n",
    "    nsp = data.shape[0]\n",
    "    ny = data.shape[1]\n",
    "    nx = data.shape[2]\n",
    "    data = ss_test0[k].mean(3)\n",
    "    \n",
    "    ####WAVEFORMS\n",
    "    fig = plt.figure(figsize=(48 / 2.54, 48 * nx / 2.54 / ny))\n",
    "    gs = gridspec.GridSpec(ny, nx)\n",
    "    # plot\n",
    "    for i in range(ny):\n",
    "        for j in range(nx):\n",
    "            ax = fig.add_subplot(gs[i, j])\n",
    "            ax.spines['right'].set_visible(False)\n",
    "            ax.spines['top'].set_visible(False)\n",
    "            ax.set_xlabel('Time [ms]')\n",
    "            ax.set_ylim([-alim, alim])\n",
    "            ax.set_ylabel(\"[m/s^2]\")\n",
    "            if plot_obs != \"acceleration_z\":\n",
    "                ax.plot(1000. * np.arange(nsp, dtype=float) / sr, scale_p*p2obs(data[:,:,:,i,j])[plot_obs][:,i,j], color='k', lw=.5, label=f\"Initial - dp, x {scale_p}\")\n",
    "            tmptitle = f\"x={j}, y={i}\"\n",
    "            ax.set_title(tmptitle)\n",
    "            \n",
    "            for date in accelfields.keys():\n",
    "                accelfield = accelfields[date][k].mean(3)\n",
    "                obs = accelfield2obs(accelfield)\n",
    "                ax.plot(1000. * np.arange(nsp, dtype=float) / sr, obs[plot_obs][:,i,j], lw=.5, alpha=.5, label=date + \" - PCB\")\n",
    "            ax.legend(fontsize=8)\n",
    "\n",
    "    #fig.subplots_adjust(top=0.97)\n",
    "    fig.suptitle(titlebr, fontsize=8)\n",
    "    fig.tight_layout(rect=[0, 0, 1, 0.97])\n",
    "    fn = os.path.join(out,title+'.png')\n",
    "    fig.savefig(fn, dpi=300)\n",
    "    \n",
    "    \n",
    "    ####SCORES\n",
    "    if plot_obs != \"acceleration_z\":\n",
    "        for date in accelfields.keys():\n",
    "            corrlim = [.8,1]\n",
    "            nrmselim = [0,10]\n",
    "            title =  k+f\"_CLOSED_LOOP_SCORES_{plot_obs}_{date}\"\n",
    "            titlebr = linebreaks(title, group=50)\n",
    "            correlations = np.zeros(data.shape[1:3])\n",
    "            nrmse = correlations.copy()\n",
    "            for i in range(correlations.shape[0]):\n",
    "                for j in range(correlations.shape[1]):\n",
    "                    orig = scale_p* p2obs(data[:,:,:,i,j])[plot_obs][:,i,j]\n",
    "                    later = accelfield2obs(accelfields[date][k].mean(3))[plot_obs][:,i,j]\n",
    "                    correlations[i,j] = pearsonr(later, orig)[0]\n",
    "                    nrmse[i,j] = np.sqrt(np.mean((later-orig)**2))/(max(orig)-min(orig))\n",
    "            fig, ax = plt.subplots(1,2)#figsize=(12,8)\n",
    "            tmp = ax[0].imshow(correlations, vmin=corrlim[0], vmax=corrlim[1], cmap= 'gray')\n",
    "            colorbar(tmp, \"Pearson Correlation\")\n",
    "            tmp = ax[1].imshow(100*nrmse, vmin=nrmselim[0], vmax=nrmselim[1], cmap='gray_r')\n",
    "            colorbar(tmp, \"NRMSE (%)\")\n",
    "\n",
    "            # fig.subplots_adjust(top=0.97)\n",
    "            fig.suptitle(titlebr, fontsize=8)\n",
    "            fig.tight_layout(rect=[0, 0, 1, 1.05])\n",
    "            fn = os.path.join(out,title+'.png')\n",
    "            fig.savefig(fn, dpi=300)"
   ]
  },
  {
   "cell_type": "code",
   "execution_count": null,
   "metadata": {},
   "outputs": [],
   "source": []
  },
  {
   "cell_type": "code",
   "execution_count": null,
   "metadata": {},
   "outputs": [],
   "source": []
  }
 ],
 "metadata": {
  "kernelspec": {
   "display_name": "Python [conda env:recorder]",
   "language": "python",
   "name": "conda-env-recorder-py"
  },
  "language_info": {
   "codemirror_mode": {
    "name": "ipython",
    "version": 3
   },
   "file_extension": ".py",
   "mimetype": "text/x-python",
   "name": "python",
   "nbconvert_exporter": "python",
   "pygments_lexer": "ipython3",
   "version": "3.8.15"
  }
 },
 "nbformat": 4,
 "nbformat_minor": 4
}
